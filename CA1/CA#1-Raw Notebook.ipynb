{
 "cells": [
  {
   "cell_type": "markdown",
   "metadata": {},
   "source": [
    "# <center>CryptoCurrencies CA#1<center>\n",
    "<h1><center>Introduction to Cryptography<center></h1>\n",
    "\n",
    "#### <center>\"MOHAMMADREZA - MOHAMMADHASHEMI\"<center>\n",
    "#### <center>\"810100206\"<center>"
   ]
  },
  {
   "cell_type": "markdown",
   "metadata": {},
   "source": [
    "## StoryLine:\n",
    "We have TinTin and Haddock on two seperate islands and they want to send messages to each other using morse codes!!    \n",
    "\n",
    "However, there is a problem over there. Roberto Rastapopoulos (Their enemy!) is listening to their conversation to figure out what they are saying to each other!    \n",
    "\n",
    "Now TinTin wants to use some encryption and decryption to ensure that Roberto couldn't understand what they are saying. Help TinTin to acheive his goal!"
   ]
  },
  {
   "cell_type": "markdown",
   "metadata": {},
   "source": [
    "## Part 1: Symmetric Cryptography\n",
    "\n"
   ]
  },
  {
   "cell_type": "markdown",
   "metadata": {},
   "source": [
    "**Important Note**: In all steps, use **AES-128** encryption method for encryption/decryption. You can use python cryptography libraries for this purpose."
   ]
  },
  {
   "cell_type": "markdown",
   "metadata": {},
   "source": [
    "TinTin decided to design a symmetirc encryption scheme for his connection with haddock. He asked you to design it for him using these steps:"
   ]
  },
  {
   "cell_type": "code",
   "execution_count": 1,
   "metadata": {},
   "outputs": [
    {
     "name": "stdout",
     "output_type": "stream",
     "text": [
      "Requirement already satisfied: cryptography in c:\\users\\mmd\\appdata\\local\\programs\\python\\python310\\lib\\site-packages (42.0.5)\n",
      "Requirement already satisfied: cffi>=1.12 in c:\\users\\mmd\\appdata\\local\\programs\\python\\python310\\lib\\site-packages (from cryptography) (1.16.0)\n",
      "Requirement already satisfied: pycparser in c:\\users\\mmd\\appdata\\local\\programs\\python\\python310\\lib\\site-packages (from cffi>=1.12->cryptography) (2.21)\n"
     ]
    }
   ],
   "source": [
    "!pip install cryptography"
   ]
  },
  {
   "cell_type": "code",
   "execution_count": 23,
   "metadata": {},
   "outputs": [],
   "source": [
    "from cryptography.hazmat.primitives.ciphers import Cipher, algorithms, modes\n",
    "from cryptography.hazmat.backends import default_backend\n",
    "from cryptography.hazmat.primitives import padding\n",
    "import os\n",
    "import hashlib\n",
    "import base64"
   ]
  },
  {
   "cell_type": "code",
   "execution_count": 24,
   "metadata": {},
   "outputs": [],
   "source": [
    "def symmetric_encryptor(input_message: str, key: str):\n",
    "    plaintext = input_message.encode()\n",
    "\n",
    "    key_bytes = hashlib.sha256(key.encode()).digest()\n",
    "\n",
    "    cipher = Cipher(algorithms.AES(key_bytes), modes.ECB(), backend=default_backend())\n",
    "    encryptor = cipher.encryptor()\n",
    "\n",
    "    padder = padding.PKCS7(128).padder()\n",
    "    padded_plaintext = padder.update(plaintext) + padder.finalize()\n",
    "\n",
    "    ciphertext = encryptor.update(padded_plaintext) + encryptor.finalize()\n",
    "\n",
    "    return base64.b64encode(ciphertext).decode()"
   ]
  },
  {
   "cell_type": "code",
   "execution_count": 25,
   "metadata": {},
   "outputs": [],
   "source": [
    "def symmetric_decryptor(input_ciphertext: str, key: str):\n",
    "    ciphertext = base64.b64decode(input_ciphertext)\n",
    "\n",
    "    key_bytes = hashlib.sha256(key.encode()).digest()\n",
    "\n",
    "    cipher = Cipher(algorithms.AES(key_bytes), modes.ECB(), backend=default_backend())\n",
    "    decryptor = cipher.decryptor()\n",
    "\n",
    "    plaintext = decryptor.update(ciphertext) + decryptor.finalize()\n",
    "\n",
    "    unpadder = padding.PKCS7(128).unpadder()\n",
    "    unpadded_plaintext = unpadder.update(plaintext) + unpadder.finalize()\n",
    "\n",
    "    return unpadded_plaintext.decode()"
   ]
  },
  {
   "cell_type": "code",
   "execution_count": 26,
   "metadata": {},
   "outputs": [],
   "source": [
    "def symmetric_verifier(plaintext: str, ciphertext: str, key: str):\n",
    "    decrypted_plaintext = symmetric_decryptor(ciphertext, key)\n",
    "\n",
    "    return plaintext == decrypted_plaintext"
   ]
  },
  {
   "cell_type": "markdown",
   "metadata": {},
   "source": [
    "Now test your functions by encrypting & decrypting the ((confidential-message.txt)) file."
   ]
  },
  {
   "cell_type": "code",
   "execution_count": 28,
   "metadata": {},
   "outputs": [
    {
     "name": "stdout",
     "output_type": "stream",
     "text": [
      "Ciphertext: NDicIF+20YzSR7Md6xxhpm3Y8WokkzDs5Jpo2ccXC/vyO0uzWF3jXn0jLhc810rXiHA5sEerJKAxtpqEjsJ1WtHDWbioLBEAPZk03tTpaDd6hp2R0thTEoIXyP2o0aXSGLXYh7oG5j72fUdbETSQwsh0Y4T8ewaZg1o/j3Sbm1d4eGcGcDnSAQnRssl/5LHvXX/ksNLSBTQHQI4F4PPH28YS8YRE7CS+yXIJ2x3KO5tRc15vb+i8lyEc9YYyoYYP9Nv7FlEzpvLKFlg7RmHroRzMjI3rtKBMXAfoRYLCzQcRKpqkd3WwBfs7yx9w7xABKaKmvOH617qLbEQbbTarrbhc6gKt7v9DMEq8Nl5PoPwHweCc0lrPFPR8XZL/2BqpPrS1hKFBnQ8BBnN5lbyqLs7HZ68kUG5C3kgcP9QDUvuL3yEszKbW1k2YimqaNC5WCf/c/DG0OwZGNGuKYLaFjLUf4y4gSnzXhdovWJm/6mU4Od8Zrq2nTCG8kwoq3TKitZdyPj/BwCV3GioepY3PirYL7as2rU8pOrBDMiWHeQlWsfRBze/zl1XlpjCy9HgsgmPY2NseZ8owEBEZ9pJP5KYO5/wFOG/EFLgDAcRm8cu3WMMRubXPQ72pDk/MFkBJC8RqqvD/q6t50TA5YhW5u41pd/G/jv+moIHLHw6pS1u/xu41f+O4RPni9uvYBboe8nXYbMNbTGgmLcYl5hpHmkyr5+qcQ/Jk+Lt4eufXBPB/pIli8uDAcDCIsnuY6LiPkp78kWt21cR/vxEstFYhX/HqPPKePri/qwvb0Ppk+k0RulIZIfC1l+pziVXUQippzIz5Ej4fD5KsvcaBjeF7szV6ruApx2Yw7/SDaQ0snss5TcssjMcQr6dbELDC58ERcsyCZcKIqA3sCB1rQZLuyu4ZkZChL8bI0oiLI0ebie0zLqMZeWmYmS2STcDXh4bK+35VUAlgaxG82+QHHGmMSJYge/6WfzBv5abXHgYN44FjQlhZkdHLs8WJpoQ29W9+spYRVceYtZVvSq2VrP0ePgSnYKFW4tt3/J+QReuQvM/3h7M6rS3YCXQ3At4qwen5+omc+GF4K5ieL5ycjleegdSarDLndNFCMshuyTUE9qGXtLexhsM8zOPzAIhzFTr5reBlxGVAQCGauztNDcMOow==\n",
      "Decrypted plaintext: From: Tintin\n",
      "To: Captain Haddock\n",
      "Date: August 13, 2023\n",
      "\n",
      "Subject: Top Secret Mission\n",
      "\n",
      "Dear Captain Haddock,\n",
      "\n",
      "I hope this message finds you well. I wanted to inform you about a top-secret mission we've been assigned by the authorities. Our task is to locate the hidden treasure of Red Rackham, which is believed to be buried on a remote island.\n",
      "\n",
      "For security reasons, I've attached a file containing the coordinates of the island's location and a map of the area. Please keep this information strictly confidential and do not share it with anyone else. We must ensure that our enemies do not get hold of this crucial data.\n",
      "\n",
      "To ensure the utmost secrecy, we will communicate using a secure channel and encryption techniques. Please let me know when you're ready to discuss our plan of action.\n",
      "\n",
      "Stay vigilant, my friend. Our adventure awaits.\n",
      "\n",
      "Yours in secrecy,\n",
      "\n",
      "Tintin\n",
      "Verification result: True\n"
     ]
    }
   ],
   "source": [
    "with open(\"confidential-message.txt\", \"r\") as file:\n",
    "    plaintext = file.read()\n",
    "key = \"your_secret_key\"\n",
    "ciphertext = symmetric_encryptor(plaintext, key)\n",
    "print(\"Ciphertext:\", ciphertext)\n",
    "\n",
    "decrypted_plaintext = symmetric_decryptor(ciphertext, key)\n",
    "print(\"Decrypted plaintext:\", decrypted_plaintext)\n",
    "\n",
    "verification_result = symmetric_verifier(plaintext, ciphertext, key)\n",
    "print(\"Verification result:\", verification_result)"
   ]
  },
  {
   "cell_type": "code",
   "execution_count": null,
   "metadata": {},
   "outputs": [],
   "source": [
    "# Test decryption code:\n",
    "# CODE HERE:\n"
   ]
  },
  {
   "cell_type": "code",
   "execution_count": 11,
   "metadata": {},
   "outputs": [],
   "source": [
    "# Test verification code:\n",
    "# CODE HERE:\n"
   ]
  },
  {
   "cell_type": "markdown",
   "metadata": {},
   "source": [
    "## Part 2: Asymmetric Cryptography"
   ]
  },
  {
   "cell_type": "markdown",
   "metadata": {},
   "source": [
    "After TinTin found how to use symmetric encryption using a key, he faced another problem! How to share a key with haddock without letting Roberto finds it?        "
   ]
  },
  {
   "cell_type": "markdown",
   "metadata": {},
   "source": [
    "Therefore, he decides to use an asymmetric crypto system.    \n",
    "help him to acheive his goal by writing a program which:"
   ]
  },
  {
   "cell_type": "code",
   "execution_count": 16,
   "metadata": {},
   "outputs": [
    {
     "ename": "SyntaxError",
     "evalue": "unexpected EOF while parsing (3746756948.py, line 6)",
     "output_type": "error",
     "traceback": [
      "\u001b[1;36m  Cell \u001b[1;32mIn [16], line 6\u001b[1;36m\u001b[0m\n\u001b[1;33m    \u001b[0m\n\u001b[1;37m    ^\u001b[0m\n\u001b[1;31mSyntaxError\u001b[0m\u001b[1;31m:\u001b[0m unexpected EOF while parsing\n"
     ]
    }
   ],
   "source": [
    "def RSA_key_generator():\n",
    "    # write a code to generate a pair of private/public key using RSA\n",
    "    # CODE HERE:\n",
    "    \n",
    "    \n",
    "    "
   ]
  },
  {
   "cell_type": "code",
   "execution_count": 20,
   "metadata": {},
   "outputs": [
    {
     "ename": "SyntaxError",
     "evalue": "unexpected EOF while parsing (2954261447.py, line 1)",
     "output_type": "error",
     "traceback": [
      "\u001b[1;36m  Cell \u001b[1;32mIn [20], line 1\u001b[1;36m\u001b[0m\n\u001b[1;33m    def asymmteric_encryptor(private_key, input_message):\u001b[0m\n\u001b[1;37m                                                         ^\u001b[0m\n\u001b[1;31mSyntaxError\u001b[0m\u001b[1;31m:\u001b[0m unexpected EOF while parsing\n"
     ]
    }
   ],
   "source": [
    "def asymmteric_encryptor(private_key:str, input_message:str):\n",
    "    # write a code to encrypt an input message using your private key\n",
    "    # CODE HERE:"
   ]
  },
  {
   "cell_type": "code",
   "execution_count": null,
   "metadata": {},
   "outputs": [],
   "source": [
    "def asymmteric_decryptor(public_key:str, ciphertext:str):\n",
    "    # write a code to decrypt a ciphertext using your private key\n",
    "    # CODE HERE:\n",
    "    "
   ]
  },
  {
   "cell_type": "code",
   "execution_count": 21,
   "metadata": {},
   "outputs": [
    {
     "ename": "SyntaxError",
     "evalue": "unexpected EOF while parsing (1017752306.py, line 6)",
     "output_type": "error",
     "traceback": [
      "\u001b[1;36m  Cell \u001b[1;32mIn [21], line 6\u001b[1;36m\u001b[0m\n\u001b[1;33m    \u001b[0m\n\u001b[1;37m    ^\u001b[0m\n\u001b[1;31mSyntaxError\u001b[0m\u001b[1;31m:\u001b[0m unexpected EOF while parsing\n"
     ]
    }
   ],
   "source": [
    "def symmetric_verifier(plaintext:str, ciphertext:str, public_key:str):\n",
    "    # Verify the correctness of the decryption process by\n",
    "    # comparing the original message with the decrypted message.\n",
    "    # output should be boolean(ture or false)\n",
    "    # CODE HERE:\n",
    "    "
   ]
  },
  {
   "cell_type": "markdown",
   "metadata": {},
   "source": [
    "Now test your functions by encrypting & decrypting the ((confidential-message.txt)) file again using new asummetric functions."
   ]
  },
  {
   "cell_type": "code",
   "execution_count": null,
   "metadata": {},
   "outputs": [],
   "source": [
    "# Test encryption code:\n",
    "# CODE HERE:\n"
   ]
  },
  {
   "cell_type": "code",
   "execution_count": null,
   "metadata": {},
   "outputs": [],
   "source": [
    "# Test decryption code:\n",
    "# CODE HERE:\n"
   ]
  },
  {
   "cell_type": "code",
   "execution_count": null,
   "metadata": {},
   "outputs": [],
   "source": [
    "# Test verification code:\n",
    "# CODE HERE:\n"
   ]
  },
  {
   "cell_type": "markdown",
   "metadata": {},
   "source": [
    "## Part 3: Digital signature"
   ]
  },
  {
   "cell_type": "markdown",
   "metadata": {},
   "source": [
    "Write a function to sign a given message in the text file (Confidentail message) using private key which was made in the part 2.   \n",
    "You have to sign the hash of the message, not the whole message (why?). (Use SHA-256 for hashing)"
   ]
  },
  {
   "cell_type": "code",
   "execution_count": null,
   "metadata": {},
   "outputs": [],
   "source": [
    "def sign_message(private_key:str, input_message: str):\n",
    "    # Write a code to sign a message using your private key.\n",
    "    # CODE HERE:\n",
    "    \n",
    "    \n",
    "    \n",
    "    return message_signature"
   ]
  },
  {
   "cell_type": "code",
   "execution_count": null,
   "metadata": {},
   "outputs": [],
   "source": [
    "def message_verification(input_message:str, signature:str, public_key:str):\n",
    "    # Write a code to verify the signature of the input message\n",
    "    # output should be boolean(ture or false)\n"
   ]
  }
 ],
 "metadata": {
  "kernelspec": {
   "display_name": "Python 3",
   "language": "python",
   "name": "python3"
  },
  "language_info": {
   "codemirror_mode": {
    "name": "ipython",
    "version": 3
   },
   "file_extension": ".py",
   "mimetype": "text/x-python",
   "name": "python",
   "nbconvert_exporter": "python",
   "pygments_lexer": "ipython3",
   "version": "3.10.4"
  },
  "orig_nbformat": 4
 },
 "nbformat": 4,
 "nbformat_minor": 2
}
