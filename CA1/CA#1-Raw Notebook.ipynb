{
 "cells": [
  {
   "cell_type": "markdown",
   "metadata": {},
   "source": [
    "# <center>CryptoCurrencies CA#1<center>\n",
    "<h1><center>Introduction to Cryptography<center></h1>\n",
    "\n",
    "#### <center>\"MOHAMMADREZA - MOHAMMADHASHEMI\"<center>\n",
    "#### <center>\"810100206\"<center>"
   ]
  },
  {
   "cell_type": "markdown",
   "metadata": {},
   "source": [
    "## StoryLine:\n",
    "We have TinTin and Haddock on two seperate islands and they want to send messages to each other using morse codes!!    \n",
    "\n",
    "However, there is a problem over there. Roberto Rastapopoulos (Their enemy!) is listening to their conversation to figure out what they are saying to each other!    \n",
    "\n",
    "Now TinTin wants to use some encryption and decryption to ensure that Roberto couldn't understand what they are saying. Help TinTin to acheive his goal!"
   ]
  },
  {
   "cell_type": "markdown",
   "metadata": {},
   "source": [
    "## Part 1: Symmetric Cryptography\n",
    "\n"
   ]
  },
  {
   "cell_type": "markdown",
   "metadata": {},
   "source": [
    "**Important Note**: In all steps, use **AES-128** encryption method for encryption/decryption. You can use python cryptography libraries for this purpose."
   ]
  },
  {
   "cell_type": "markdown",
   "metadata": {},
   "source": [
    "TinTin decided to design a symmetirc encryption scheme for his connection with haddock. He asked you to design it for him using these steps:"
   ]
  },
  {
   "cell_type": "code",
   "execution_count": 6,
   "metadata": {},
   "outputs": [
    {
     "name": "stdout",
     "output_type": "stream",
     "text": [
      "Requirement already satisfied: cryptography in c:\\users\\mmd\\appdata\\local\\programs\\python\\python310\\lib\\site-packages (42.0.5)\n",
      "Requirement already satisfied: cffi>=1.12 in c:\\users\\mmd\\appdata\\local\\programs\\python\\python310\\lib\\site-packages (from cryptography) (1.16.0)\n",
      "Requirement already satisfied: pycparser in c:\\users\\mmd\\appdata\\local\\programs\\python\\python310\\lib\\site-packages (from cffi>=1.12->cryptography) (2.21)\n"
     ]
    }
   ],
   "source": [
    "!pip install cryptography"
   ]
  },
  {
   "cell_type": "code",
   "execution_count": 12,
   "metadata": {},
   "outputs": [],
   "source": [
    "from cryptography.hazmat.primitives.ciphers import Cipher, algorithms, modes\n",
    "from cryptography.hazmat.backends import default_backend\n",
    "from cryptography.hazmat.primitives import padding\n",
    "import os\n",
    "import hashlib\n",
    "import base64\n",
    "from cryptography.hazmat.primitives.asymmetric import rsa\n",
    "from cryptography.hazmat.primitives import hashes\n",
    "from cryptography.hazmat.primitives.asymmetric import padding as pad"
   ]
  },
  {
   "cell_type": "code",
   "execution_count": 13,
   "metadata": {},
   "outputs": [],
   "source": [
    "def symmetric_encryptor(input_message: str, key: str):\n",
    "    plaintext = input_message.encode()\n",
    "\n",
    "    key_bytes = hashlib.sha256(key.encode()).digest()\n",
    "\n",
    "    cipher = Cipher(algorithms.AES(key_bytes), modes.ECB(), backend=default_backend())\n",
    "    encryptor = cipher.encryptor()\n",
    "\n",
    "    padder = padding.PKCS7(128).padder()\n",
    "    padded_plaintext = padder.update(plaintext) + padder.finalize()\n",
    "\n",
    "    ciphertext = encryptor.update(padded_plaintext) + encryptor.finalize()\n",
    "\n",
    "    return base64.b64encode(ciphertext).decode()"
   ]
  },
  {
   "cell_type": "code",
   "execution_count": 14,
   "metadata": {},
   "outputs": [],
   "source": [
    "def symmetric_decryptor(input_ciphertext: str, key: str):\n",
    "    ciphertext = base64.b64decode(input_ciphertext)\n",
    "\n",
    "    key_bytes = hashlib.sha256(key.encode()).digest()\n",
    "\n",
    "    cipher = Cipher(algorithms.AES(key_bytes), modes.ECB(), backend=default_backend())\n",
    "    decryptor = cipher.decryptor()\n",
    "\n",
    "    plaintext = decryptor.update(ciphertext) + decryptor.finalize()\n",
    "\n",
    "    unpadder = padding.PKCS7(128).unpadder()\n",
    "    unpadded_plaintext = unpadder.update(plaintext) + unpadder.finalize()\n",
    "\n",
    "    return unpadded_plaintext.decode()"
   ]
  },
  {
   "cell_type": "code",
   "execution_count": 15,
   "metadata": {},
   "outputs": [],
   "source": [
    "def symmetric_verifier(plaintext: str, ciphertext: str, key: str):\n",
    "    decrypted_plaintext = symmetric_decryptor(ciphertext, key)\n",
    "\n",
    "    return plaintext == decrypted_plaintext"
   ]
  },
  {
   "cell_type": "markdown",
   "metadata": {},
   "source": [
    "Now test your functions by encrypting & decrypting the ((confidential-message.txt)) file."
   ]
  },
  {
   "cell_type": "code",
   "execution_count": 16,
   "metadata": {},
   "outputs": [
    {
     "name": "stdout",
     "output_type": "stream",
     "text": [
      "Ciphertext: NDicIF+20YzSR7Md6xxhpm3Y8WokkzDs5Jpo2ccXC/vyO0uzWF3jXn0jLhc810rXiHA5sEerJKAxtpqEjsJ1WtHDWbioLBEAPZk03tTpaDd6hp2R0thTEoIXyP2o0aXSGLXYh7oG5j72fUdbETSQwsh0Y4T8ewaZg1o/j3Sbm1d4eGcGcDnSAQnRssl/5LHvXX/ksNLSBTQHQI4F4PPH28YS8YRE7CS+yXIJ2x3KO5tRc15vb+i8lyEc9YYyoYYP9Nv7FlEzpvLKFlg7RmHroRzMjI3rtKBMXAfoRYLCzQcRKpqkd3WwBfs7yx9w7xABKaKmvOH617qLbEQbbTarrbhc6gKt7v9DMEq8Nl5PoPwHweCc0lrPFPR8XZL/2BqpPrS1hKFBnQ8BBnN5lbyqLs7HZ68kUG5C3kgcP9QDUvuL3yEszKbW1k2YimqaNC5WCf/c/DG0OwZGNGuKYLaFjLUf4y4gSnzXhdovWJm/6mU4Od8Zrq2nTCG8kwoq3TKitZdyPj/BwCV3GioepY3PirYL7as2rU8pOrBDMiWHeQlWsfRBze/zl1XlpjCy9HgsgmPY2NseZ8owEBEZ9pJP5KYO5/wFOG/EFLgDAcRm8cu3WMMRubXPQ72pDk/MFkBJC8RqqvD/q6t50TA5YhW5u41pd/G/jv+moIHLHw6pS1u/xu41f+O4RPni9uvYBboe8nXYbMNbTGgmLcYl5hpHmkyr5+qcQ/Jk+Lt4eufXBPB/pIli8uDAcDCIsnuY6LiPkp78kWt21cR/vxEstFYhX/HqPPKePri/qwvb0Ppk+k0RulIZIfC1l+pziVXUQippzIz5Ej4fD5KsvcaBjeF7szV6ruApx2Yw7/SDaQ0snss5TcssjMcQr6dbELDC58ERcsyCZcKIqA3sCB1rQZLuyu4ZkZChL8bI0oiLI0ebie0zLqMZeWmYmS2STcDXh4bK+35VUAlgaxG82+QHHGmMSJYge/6WfzBv5abXHgYN44FjQlhZkdHLs8WJpoQ29W9+spYRVceYtZVvSq2VrP0ePgSnYKFW4tt3/J+QReuQvM/3h7M6rS3YCXQ3At4qwen5+omc+GF4K5ieL5ycjleegdSarDLndNFCMshuyTUE9qGXtLexhsM8zOPzAIhzFTr5reBlxGVAQCGauztNDcMOow==\n",
      "Decrypted plaintext: From: Tintin\n",
      "To: Captain Haddock\n",
      "Date: August 13, 2023\n",
      "\n",
      "Subject: Top Secret Mission\n",
      "\n",
      "Dear Captain Haddock,\n",
      "\n",
      "I hope this message finds you well. I wanted to inform you about a top-secret mission we've been assigned by the authorities. Our task is to locate the hidden treasure of Red Rackham, which is believed to be buried on a remote island.\n",
      "\n",
      "For security reasons, I've attached a file containing the coordinates of the island's location and a map of the area. Please keep this information strictly confidential and do not share it with anyone else. We must ensure that our enemies do not get hold of this crucial data.\n",
      "\n",
      "To ensure the utmost secrecy, we will communicate using a secure channel and encryption techniques. Please let me know when you're ready to discuss our plan of action.\n",
      "\n",
      "Stay vigilant, my friend. Our adventure awaits.\n",
      "\n",
      "Yours in secrecy,\n",
      "\n",
      "Tintin\n",
      "Verification result: True\n"
     ]
    }
   ],
   "source": [
    "with open(\"confidential-message.txt\", \"r\") as file:\n",
    "    plaintext = file.read()\n",
    "key = \"your_secret_key\"\n",
    "ciphertext = symmetric_encryptor(plaintext, key)\n",
    "print(\"Ciphertext:\", ciphertext)\n",
    "\n",
    "decrypted_plaintext = symmetric_decryptor(ciphertext, key)\n",
    "print(\"Decrypted plaintext:\", decrypted_plaintext)\n",
    "\n",
    "verification_result = symmetric_verifier(plaintext, ciphertext, key)\n",
    "print(\"Verification result:\", verification_result)"
   ]
  },
  {
   "cell_type": "markdown",
   "metadata": {},
   "source": [
    "## Part 2: Asymmetric Cryptography"
   ]
  },
  {
   "cell_type": "markdown",
   "metadata": {},
   "source": [
    "After TinTin found how to use symmetric encryption using a key, he faced another problem! How to share a key with haddock without letting Roberto finds it?        "
   ]
  },
  {
   "cell_type": "markdown",
   "metadata": {},
   "source": [
    "Therefore, he decides to use an asymmetric crypto system.    \n",
    "help him to acheive his goal by writing a program which:"
   ]
  },
  {
   "cell_type": "code",
   "execution_count": 29,
   "metadata": {},
   "outputs": [],
   "source": [
    "def RSA_key_generator():\n",
    "    private_key = rsa.generate_private_key(\n",
    "        public_exponent=65537,\n",
    "        key_size=2048,\n",
    "        backend=default_backend()\n",
    "    )\n",
    "\n",
    "    public_key = private_key.public_key()\n",
    "\n",
    "    return private_key, public_key"
   ]
  },
  {
   "cell_type": "code",
   "execution_count": 30,
   "metadata": {},
   "outputs": [],
   "source": [
    "def asymmetric_encryptor(public_key, input_message: str):\n",
    "    plaintext = input_message.encode()\n",
    "\n",
    "    ciphertext = public_key.encrypt(\n",
    "        plaintext,\n",
    "        pad.OAEP(\n",
    "            mgf=pad.MGF1(algorithm=hashes.SHA256()),\n",
    "            algorithm=hashes.SHA256(),\n",
    "            label=None\n",
    "        )\n",
    "    )\n",
    "\n",
    "    return base64.b64encode(ciphertext).decode()"
   ]
  },
  {
   "cell_type": "code",
   "execution_count": 31,
   "metadata": {},
   "outputs": [],
   "source": [
    "def asymmetric_decryptor(private_key, ciphertext: str):\n",
    "    ciphertext_bytes = base64.b64decode(ciphertext)\n",
    "\n",
    "    plaintext = private_key.decrypt(\n",
    "        ciphertext_bytes,\n",
    "        pad.OAEP(\n",
    "            mgf=pad.MGF1(algorithm=hashes.SHA256()),\n",
    "            algorithm=hashes.SHA256(),\n",
    "            label=None\n",
    "        )\n",
    "    )\n",
    "\n",
    "    return plaintext.decode()"
   ]
  },
  {
   "cell_type": "code",
   "execution_count": 32,
   "metadata": {},
   "outputs": [],
   "source": [
    "def symmetric_verifier(plaintext: str, ciphertext: str, public_key):\n",
    "    decrypted_plaintext = asymmetric_decryptor(public_key, ciphertext)\n",
    "\n",
    "    return plaintext == decrypted_plaintext"
   ]
  },
  {
   "cell_type": "markdown",
   "metadata": {},
   "source": [
    "Now test your functions by encrypting & decrypting the ((confidential-message.txt)) file again using new asummetric functions."
   ]
  },
  {
   "cell_type": "code",
   "execution_count": 33,
   "metadata": {},
   "outputs": [
    {
     "name": "stdout",
     "output_type": "stream",
     "text": [
      "Ciphertext: NjLaDM4+MziMShPUPUGHxpNNdanXFqL4itLLKcvPKBNOEggzOD87VhkQKG5O46q738LTbqEETGHxWYcqgMRsprYPgKdQy9MNDD98bnQK+VboHhv+OXegODznAW6NRH4lfFHXGPoQSobl7vxMrejE0bE8rm3w1/oTIBfye7/0rMfsaRNAfS5otjDnYVPxTP9BPo5E1B/TPnMNcdq/6C3D9A1imUg1Tn6HbocURdeRi61OBu99YGuO8nQq0Qrt/V4EUF2BgQBSaaSQcvYj8KA9xrWwhywrDObCIhausz9iZzyJZMRYl6oHpQXeXqp053LA36LOi+SDYP/MXVjXj1ZNRA==\n"
     ]
    }
   ],
   "source": [
    "private_key, public_key = RSA_key_generator()\n",
    "\n",
    "plaintext = key\n",
    "\n",
    "ciphertext = asymmetric_encryptor(public_key, plaintext)\n",
    "\n",
    "print(\"Ciphertext:\", ciphertext)"
   ]
  },
  {
   "cell_type": "code",
   "execution_count": 34,
   "metadata": {},
   "outputs": [
    {
     "name": "stdout",
     "output_type": "stream",
     "text": [
      "Decrypted plaintext: your_secret_key\n"
     ]
    }
   ],
   "source": [
    "decrypted_plaintext = asymmetric_decryptor(private_key, ciphertext)\n",
    "print(\"Decrypted plaintext:\", decrypted_plaintext)"
   ]
  },
  {
   "cell_type": "code",
   "execution_count": 35,
   "metadata": {},
   "outputs": [
    {
     "name": "stdout",
     "output_type": "stream",
     "text": [
      "Verification result: True\n"
     ]
    }
   ],
   "source": [
    "verification_result = symmetric_verifier(plaintext, ciphertext, private_key)\n",
    "print(\"Verification result:\", verification_result)"
   ]
  },
  {
   "cell_type": "markdown",
   "metadata": {},
   "source": [
    "## Part 3: Digital signature"
   ]
  },
  {
   "cell_type": "markdown",
   "metadata": {},
   "source": [
    "Write a function to sign a given message in the text file (Confidentail message) using private key which was made in the part 2.   \n",
    "You have to sign the hash of the message, not the whole message (why?). (Use SHA-256 for hashing)"
   ]
  },
  {
   "cell_type": "code",
   "execution_count": 39,
   "metadata": {},
   "outputs": [],
   "source": [
    "def sign_message(private_key: str, input_message: str):\n",
    "    message_bytes = input_message.encode()\n",
    "\n",
    "    digest = hashes.Hash(hashes.SHA256(), backend=default_backend())\n",
    "    digest.update(message_bytes)\n",
    "    message_hash = digest.finalize()\n",
    "\n",
    "    signature = private_key.sign(\n",
    "        message_hash,\n",
    "        pad.PSS(\n",
    "            mgf=pad.MGF1(hashes.SHA256()),\n",
    "            salt_length=pad.PSS.MAX_LENGTH\n",
    "        ),\n",
    "        hashes.SHA256()\n",
    "    )\n",
    "\n",
    "    return base64.b64encode(signature).decode()"
   ]
  },
  {
   "cell_type": "code",
   "execution_count": 40,
   "metadata": {},
   "outputs": [],
   "source": [
    "def message_verification(input_message: str, signature: str, public_key: str):\n",
    "    message_bytes = input_message.encode()\n",
    "\n",
    "    signature_bytes = base64.b64decode(signature)\n",
    "\n",
    "    digest = hashes.Hash(hashes.SHA256(), backend=default_backend())\n",
    "    digest.update(message_bytes)\n",
    "    message_hash = digest.finalize()\n",
    "\n",
    "    try:\n",
    "        public_key.verify(\n",
    "            signature_bytes,\n",
    "            message_hash,\n",
    "            pad.PSS(\n",
    "                mgf=pad.MGF1(hashes.SHA256()),\n",
    "                salt_length=pad.PSS.MAX_LENGTH\n",
    "            ),\n",
    "            hashes.SHA256()\n",
    "        )\n",
    "        return True\n",
    "    except Exception:\n",
    "        return False"
   ]
  },
  {
   "cell_type": "code",
   "execution_count": 41,
   "metadata": {},
   "outputs": [
    {
     "name": "stdout",
     "output_type": "stream",
     "text": [
      "Signature: UQZ1IX90fVslGF0i2DFGGLF4M5+nvtQJBNldcmJ/WY3JrJWWHNJ2lJ2Z8fmOfQavI0E/Flzr+f/EqCnd6gSiVObbb6SCl+4jGKkA2fJia856E1Ru6mhnPx3Oad/Dk2zTW2SRwhQCHer6GxYpJXnzboZbF2kOKWLq/t75dNZ/aQQPLyrUpJy5k5PA76spSs0pmpo4Ue9iM6qMoEmez6TTa/yEAahBhyj3qBHy7XDa199LqlZvwYR1auO/XqTmOzv64Mv+ZWuuk1zrvVIIHUzo7Zt3oR1YzLWrQlDTNNi6SsRQeekCusB7iYJoUsSIoRzczD5ktX7AnA02XoKh4u5c4A==\n",
      "Verification result: True\n"
     ]
    }
   ],
   "source": [
    "private_key, public_key = RSA_key_generator()\n",
    "with open(\"confidential-message.txt\", \"r\") as file:\n",
    "    message = file.read()\n",
    "signature = sign_message(private_key, message)\n",
    "print(\"Signature:\", signature)\n",
    "\n",
    "verification_result = message_verification(message, signature, public_key)\n",
    "print(\"Verification result:\", verification_result)"
   ]
  },
  {
   "cell_type": "markdown",
   "metadata": {},
   "source": [
    "Sure, let's break it down:\n",
    "\n",
    "**MAC (Message Authentication Code)**: A MAC is a short piece of information used to authenticate a message and to provide integrity and authenticity assurances on the message. Integrity assurances detect accidental and intentional message changes, while authenticity assurances affirm the message's origin.\n",
    "\n",
    "**HMAC (Hash-Based Message Authentication Code)**: HMAC is a specific type of MAC involving a cryptographic hash function and a secret cryptographic key⁹. As with any MAC, it may be used to simultaneously verify both the data integrity and authenticity of a message. HMAC can provide authentication using a shared secret instead of using digital signatures with asymmetric cryptography.\n",
    "\n",
    "The HMAC process involves the following steps:\n",
    "1. **Appending zeros to the left of the key** to achieve a block size equal to the size of the input block of the hash function.\n",
    "2. **Appending zeros to the right of the key** to achieve a block size equal to the size of the output block of the hash function.\n",
    "3. **Performing an XOR operation** on the block obtained after the first or second step and a constant value.\n",
    "4. **Applying the hash function** on the result of the XOR operation.\n",
    "5. **Appending the hash result to the message**.\n",
    "6. **Applying the hash function** on the result of step 5 to produce the final HMAC code.\n",
    "\n",
    "In terms of its application in Sage messaging, Sage is a software that offers various services including messaging. While I couldn't find specific details on how Sage uses HMAC in their messaging system, HMAC is commonly used in secure communication protocols to ensure the integrity and authenticity of the messages being exchanged. This could include verifying that a message has not been tampered with during transmission and confirming the identity of the sender. "
   ]
  }
 ],
 "metadata": {
  "kernelspec": {
   "display_name": "Python 3",
   "language": "python",
   "name": "python3"
  },
  "language_info": {
   "codemirror_mode": {
    "name": "ipython",
    "version": 3
   },
   "file_extension": ".py",
   "mimetype": "text/x-python",
   "name": "python",
   "nbconvert_exporter": "python",
   "pygments_lexer": "ipython3",
   "version": "3.10.4"
  },
  "orig_nbformat": 4
 },
 "nbformat": 4,
 "nbformat_minor": 2
}
