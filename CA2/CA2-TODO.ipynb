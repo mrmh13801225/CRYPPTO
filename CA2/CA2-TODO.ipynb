{
 "cells": [
  {
   "cell_type": "markdown",
   "metadata": {},
   "source": [
    "# <center>CryptoCurrencies CA#2<center>\n",
    "<h1><center>Transacting on Bitcoin TestNet / Firing up an Ethereum Node<center></h1>\n",
    "\n",
    "#### <center>\"Name - Family name\"<center>\n",
    "#### <center>\"Student ID\"<center>"
   ]
  },
  {
   "cell_type": "markdown",
   "metadata": {},
   "source": [
    "### 1. Address Generation:"
   ]
  },
  {
   "cell_type": "markdown",
   "metadata": {},
   "source": [
    " 1.1: Base58 and WIF address"
   ]
  },
  {
   "cell_type": "code",
   "execution_count": 1,
   "metadata": {},
   "outputs": [
    {
     "name": "stdout",
     "output_type": "stream",
     "text": [
      "test\n",
      "cVJv9pWzLRizhfRFNa2y7YsLvdc2sVdwFEfgMenCDF6LYcaX7atg\n",
      "mjYsji2z7HtGXUbRquR7kU3WhAEDBZF7op\n"
     ]
    }
   ],
   "source": [
    "from bit import PrivateKeyTestnet\n",
    "\n",
    "\n",
    "def generate_wif():\n",
    "    return PrivateKeyTestnet().to_wif()\n",
    "\n",
    "def generate_testnet_address(wif):\n",
    "    return PrivateKeyTestnet(wif)\n",
    "\n",
    "wif = generate_wif()\n",
    "\n",
    "my_key = generate_testnet_address(wif)\n",
    "print(my_key.version)\n",
    "print(my_key.to_wif())\n",
    "print(my_key.address)\n"
   ]
  },
  {
   "cell_type": "code",
   "execution_count": 20,
   "metadata": {},
   "outputs": [
    {
     "name": "stdout",
     "output_type": "stream",
     "text": [
      "Private Key:  fbd2834817a62873059f2d6be5c57a57811a39087bbb51732c223a194c97fca4\n",
      "Bitcoin Address:  tb1qtgwypa4fk4jkja0acvpwmc2hq8nms6pw8vkms\n"
     ]
    }
   ],
   "source": [
    "import os\n",
    "import hashlib\n",
    "from coincurve import PublicKey\n",
    "from bech32 import bech32_encode, convertbits\n",
    "\n",
    "# Generate a new private key\n",
    "private_key = os.urandom(32)\n",
    "\n",
    "# Generate the public key\n",
    "public_key = PublicKey.from_valid_secret(private_key).format(compressed=True)\n",
    "\n",
    "# Generate the public key hash\n",
    "public_key_hash = hashlib.new('ripemd160', hashlib.sha256(public_key).digest()).digest()\n",
    "\n",
    "# Convert the public key hash to base32\n",
    "public_key_hash_base32 = convertbits(public_key_hash, 8, 5)\n",
    "\n",
    "# Generate the Bech32 address\n",
    "address = bech32_encode('tb', public_key_hash_base32)\n",
    "\n",
    "print(\"Private Key: \", private_key.hex())\n",
    "print(\"Bitcoin Address: \", address)\n"
   ]
  },
  {
   "cell_type": "code",
   "execution_count": 3,
   "metadata": {},
   "outputs": [
    {
     "name": "stdout",
     "output_type": "stream",
     "text": [
      "WIF Private Key: cUkSiHJTo7dqpsadJGJ9FVQVCZeken8t1k3WcMgTV23DHo5ah5Kr\n",
      "Bitcoin Testnet Address: tb1qzlkszsz7xe95slzqzc09wsvv535grundvxykwd\n"
     ]
    }
   ],
   "source": [
    "import os\n",
    "import hashlib\n",
    "import bech32\n",
    "import ecdsa\n",
    "import base58\n",
    "\n",
    "def hash160(s):\n",
    "    return hashlib.new('ripemd160', hashlib.sha256(s).digest()).digest()\n",
    "\n",
    "def pubkey_to_address(pubkey: bytes):\n",
    "    sha = hashlib.sha256(pubkey).digest()\n",
    "    ripemd = hash160(sha)\n",
    "    data = bech32.convertbits(ripemd, 8, 5)\n",
    "    bech32_addr = bech32.bech32_encode('tb', [0] + data)\n",
    "\n",
    "    return bech32_addr\n",
    "\n",
    "# Generate a new raw private key\n",
    "raw_private_key = os.urandom(32)\n",
    "\n",
    "# Add a 0x80 byte in front of it for mainnet addresses or 0xef for testnet addresses\n",
    "# Here we choose 0xef for a testnet address\n",
    "extended_key = b'\\xef' + raw_private_key\n",
    "\n",
    "# Add a 0x01 byte at the end if the private key will correspond to a compressed public key\n",
    "extended_key += b'\\x01'\n",
    "\n",
    "# Perform SHA-256 hash on the extended key\n",
    "hash = hashlib.sha256(extended_key).digest()\n",
    "\n",
    "# Perform SHA-256 hash on the result of the previous SHA-256 hash\n",
    "hash = hashlib.sha256(hash).digest()\n",
    "\n",
    "# Take the first 4 bytes of the second SHA-256 hash, this is the checksum\n",
    "checksum = hash[:4]\n",
    "\n",
    "# Add the 4 checksum bytes from stage 7 at the end of the extended key from stage 6\n",
    "wif_bytes = extended_key + checksum\n",
    "\n",
    "# Convert the result from a byte string into a base58 string using Base58Check encoding\n",
    "# This is the Wallet Import Format\n",
    "wif_private_key = base58.b58encode(wif_bytes).decode('utf-8')\n",
    "\n",
    "# Create a SigningKey object from the raw private key\n",
    "private_key = ecdsa.SigningKey.from_string(raw_private_key, curve=ecdsa.SECP256k1)\n",
    "\n",
    "# Get the public key\n",
    "public_key = private_key.get_verifying_key().to_string()\n",
    "\n",
    "# Get the Bitcoin testnet address\n",
    "address = pubkey_to_address(public_key)\n",
    "\n",
    "print('WIF Private Key:', wif_private_key)\n",
    "print('Bitcoin Testnet Address:', address)\n"
   ]
  },
  {
   "cell_type": "markdown",
   "metadata": {},
   "source": [
    "1.2: Vanity Address Generator\n"
   ]
  },
  {
   "cell_type": "code",
   "execution_count": 9,
   "metadata": {},
   "outputs": [
    {
     "name": "stdout",
     "output_type": "stream",
     "text": [
      "1 : 1VancbtbWExbvPEYr8yktx1fvv4S4xcPv at time : 22 : 12\n",
      "2 : 1Va8ZbXX5WoEo9k1QgcpkWv5nSUtySajw at time : 22 : 13\n",
      "3 : 1VaVmnP5JDpUBdL9nf4Lkgvf4oGVMtZ75 at time : 22 : 13\n",
      "4 : 1VaKBHzUovyvB8uvXpY9FYxEzpUTRKQku at time : 22 : 14\n",
      "5 : 1VaHUoBvXuz8MuyALd8E9TNNobTff9cTc at time : 22 : 14\n",
      "6 : 1Vav3tGVhqFRobo3DrstbGUkzhUHafsJx at time : 22 : 15\n",
      "7 : 1VaMFFPjhceWEokN1eKU2Uy94z5KdGK2N at time : 22 : 16\n",
      "8 : 1VaMsie7TGsamDARs6gRnHW7Ax158pmFv at time : 22 : 17\n",
      "9 : 1Va7DXoioVYCYf5PpyGbJVuapSa2yKfCa at time : 22 : 17\n",
      "10 : 1Va4F5nC5WqcPuWqnnTY9w3ZirWim1dJE at time : 22 : 18\n",
      "11 : 1VagJZPknpTnCBVc3pd8PsYDXugBiWHzP at time : 22 : 18\n",
      "12 : 1VaTm1jPg1ZYPJ8QHPixowauUc5ZSBU91 at time : 22 : 25\n",
      "13 : 1VayEauWuP6guh3W4n8FpEg3LHPbTt8NU at time : 22 : 28\n",
      "Private Key: d0e37f7a8c201cc61776cc48ac3027c18273b931ca84f7338ebec8066cf3661d\n",
      "Bitcoin Address: 1VayEauWuP6guh3W4n8FpEg3LHPbTt8NU\n"
     ]
    }
   ],
   "source": [
    "import os\n",
    "import hashlib\n",
    "import base58\n",
    "import ecdsa\n",
    "from datetime import datetime\n",
    "\n",
    "def generate_private_key():\n",
    "    return os.urandom(32)\n",
    "\n",
    "def private_key_to_public_key(private_key):\n",
    "    sk = ecdsa.SigningKey.from_string(private_key, curve=ecdsa.SECP256k1)\n",
    "    vk = sk.get_verifying_key()\n",
    "    return b'\\x04' + vk.to_string()\n",
    "\n",
    "def public_key_to_address(public_key):\n",
    "    sha256_pk = hashlib.sha256(public_key).digest()\n",
    "\n",
    "    ripemd160_pk = hashlib.new('ripemd160', sha256_pk).digest()\n",
    "\n",
    "    versioned_payload = b'\\x00' + ripemd160_pk\n",
    "\n",
    "    checksum = hashlib.sha256(versioned_payload).digest()\n",
    "    checksum = hashlib.sha256(checksum).digest()\n",
    "\n",
    "    checksum = checksum[:4]\n",
    "\n",
    "    binary_address = versioned_payload + checksum\n",
    "\n",
    "    address = base58.b58encode(binary_address)\n",
    "\n",
    "    return address\n",
    "\n",
    "def generate_vanity_address(pattern):\n",
    "    near_vanity_count = 0\n",
    "    while True:\n",
    "        private_key = generate_private_key()\n",
    "        public_key = private_key_to_public_key(private_key)\n",
    "        address = public_key_to_address(public_key).decode()\n",
    "        if address.startswith(\"1Va\"):\n",
    "            now = datetime.now()\n",
    "            near_vanity_count += 1\n",
    "            print(f'{near_vanity_count} : {address} at time : {now.hour} : {now.minute}')\n",
    "\n",
    "        if address.startswith(pattern):\n",
    "            return private_key.hex(), address\n",
    "\n",
    "desired_pattern = \"1Vay\"\n",
    "private_key, address = generate_vanity_address(desired_pattern)\n",
    "print(\"Private Key:\", private_key)\n",
    "print(\"Bitcoin Address:\", address)\n"
   ]
  },
  {
   "cell_type": "markdown",
   "metadata": {},
   "source": [
    "### 2. Transacting on Bitcoin TestNet:"
   ]
  },
  {
   "cell_type": "markdown",
   "metadata": {},
   "source": [
    "Here are some utility functions that you will need to use in order to make transactions. Fill the #TODO parts in the functions in order to be used in the next steps:"
   ]
  },
  {
   "cell_type": "markdown",
   "metadata": {},
   "source": [
    "#### Utility Functions:"
   ]
  },
  {
   "cell_type": "code",
   "execution_count": null,
   "metadata": {},
   "outputs": [],
   "source": [
    "import bitcoin.wallet\n",
    "from bitcoin.core import COIN, b2lx, serialize, x, lx, b2x\n",
    "from utils import *\n",
    "\n",
    "bitcoin.SelectParams(\"testnet\")  # Select the network (testnet or mainnet)\n",
    "# Private key in WIF format XXXXXXXXXXXXXXXXXXXXXXXXXXXXXXXXXXXXXXXXXXXXXXXXXXX\n",
    "my_private_key = bitcoin.wallet.CBitcoinSecret(\"XXXXXXXXXXXXXXXXXXXXXXXXXXXXXXXXXXXXXXXXXXXXXXXXXXX\")\n",
    "my_public_key = my_private_key.pub\n",
    "my_address = bitcoin.wallet.P2PKHBitcoinAddress.from_pubkey(my_public_key)\n",
    "destination_address = bitcoin.wallet.CBitcoinAddress('XXXXXXXXXXXXXXXXXXXXXXXXXXXXXXXXXX')  # Destination address (recipient of the money)\n",
    "\n",
    "\n",
    "def P2PKH_scriptPubKey(address):\n",
    "    ######################################################################\n",
    "    ## Fill out the operations for P2PKH scriptPubKey                   ##\n",
    "\n",
    "    return [..., OP_CHECKSIG]  # Fill this section\n",
    "    ######################################################################\n",
    "\n",
    "\n",
    "def P2PKH_scriptSig(txin, txout, txin_scriptPubKey):\n",
    "    ######################################################################\n",
    "    ## Fill out the operations for P2PKH scriptSig                      ##\n",
    "\n",
    "    signature = create_OP_CHECKSIG_signature(txin, txout, txin_scriptPubKey, my_private_key)\n",
    "\n",
    "    return [signature, ...]  # Fill this section\n",
    "    ######################################################################\n",
    "\n",
    "\n",
    "def send_from_P2PKH_transaction(amount_to_send, txid_to_spend, utxo_index, txout_scriptPubKey):\n",
    "    txout = create_txout(amount_to_send, txout_scriptPubKey)\n",
    "\n",
    "    txin_scriptPubKey = P2PKH_scriptPubKey(my_address)\n",
    "    txin = create_txin(txid_to_spend, utxo_index)\n",
    "    txin_scriptSig = P2PKH_scriptSig(txin, txout, txin_scriptPubKey)\n",
    "\n",
    "    new_tx = create_signed_transaction(txin, txout, txin_scriptPubKey, txin_scriptSig)\n",
    "\n",
    "    return broadcast_transaction(new_tx)\n",
    "\n",
    "\n",
    "def run():\n",
    "    ######################################################################\n",
    "    amount_to_send = 0.1\n",
    "    txid_to_spend = ('XXXXXXXXXXXXXXXXXXXXXXXXXXXXXXXXXXXXXXXXXXXXXXXXXXXXXXXXXXXXXXXX')  # TxHash of UTXO\n",
    "    utxo_index = 0  # UTXO index among transaction outputs\n",
    "    ######################################################################\n",
    "\n",
    "    print(my_address)  # Prints your address in base58\n",
    "    print(my_public_key.hex())  # Print your public key in hex\n",
    "    print(my_private_key.hex())  # Print your private key in hex\n",
    "    txout_scriptPubKey = P2PKH_scriptPubKey(my_address)\n",
    "    response = send_from_P2PKH_transaction(amount_to_send, txid_to_spend, utxo_index, txout_scriptPubKey)\n",
    "    print(response.status_code, response.reason)\n",
    "    print(response.text)  # Report the hash of transaction which is printed in this section result\n"
   ]
  },
  {
   "cell_type": "code",
   "execution_count": null,
   "metadata": {},
   "outputs": [],
   "source": [
    "import requests\n",
    "\n",
    "from bitcoin.core import b2x, lx, COIN, COutPoint, CMutableTxOut, CMutableTxIn, CMutableTransaction, Hash160\n",
    "from bitcoin.core.script import *\n",
    "from bitcoin.core.scripteval import VerifyScript, SCRIPT_VERIFY_P2SH\n",
    "\n",
    "\n",
    "def send_from_custom_transaction(amount_to_send, txid_to_spend, utxo_index, txin_scriptPubKey, txin_scriptSig, txout_scriptPubKey):\n",
    "    txout = create_txout(amount_to_send, txout_scriptPubKey)\n",
    "    txin = create_txin(txid_to_spend, utxo_index)\n",
    "    new_tx = create_signed_transaction(txin, txout, txin_scriptPubKey, txin_scriptSig)\n",
    "    return broadcast_transaction(new_tx)\n",
    "\n",
    "\n",
    "def create_txin(txid, utxo_index):\n",
    "    return CMutableTxIn(COutPoint(lx(txid), utxo_index))\n",
    "\n",
    "\n",
    "def create_txout(amount, scriptPubKey):\n",
    "    return CMutableTxOut(amount*COIN, CScript(scriptPubKey))\n",
    "\n",
    "\n",
    "def create_OP_CHECKSIG_signature(txin, txout, txin_scriptPubKey, seckey):\n",
    "    tx = CMutableTransaction([txin], [txout])\n",
    "    sighash = SignatureHash(CScript(txin_scriptPubKey), tx, 0, SIGHASH_ALL)\n",
    "    sig = seckey.sign(sighash) + bytes([SIGHASH_ALL])\n",
    "    return sig\n",
    "\n",
    "\n",
    "def create_signed_transaction(txin, txout, txin_scriptPubKey, txin_scriptSig):\n",
    "    tx = CMutableTransaction([txin], [txout])\n",
    "    txin.scriptSig = CScript(txin_scriptSig)\n",
    "    VerifyScript(txin.scriptSig, CScript(txin_scriptPubKey), tx, 0, (SCRIPT_VERIFY_P2SH,))\n",
    "    return tx\n",
    "\n",
    "\n",
    "def broadcast_transaction(tx):\n",
    "    raw_transaction = b2x(tx.serialize())\n",
    "    headers = {'content-type': 'application/x-www-form-urlencoded'}\n",
    "    return requests.post(\n",
    "        'https://api.blockcypher.com/v1/btc/test3/txs/push',\n",
    "        headers=headers,\n",
    "        data='{\"tx\": \"%s\"}' % raw_transaction,\n",
    "    )\n"
   ]
  },
  {
   "cell_type": "markdown",
   "metadata": {},
   "source": [
    "Now use the provided functions to make these transactions:"
   ]
  },
  {
   "cell_type": "markdown",
   "metadata": {},
   "source": [
    "2.1: One input and two outputs transaction"
   ]
  },
  {
   "cell_type": "code",
   "execution_count": null,
   "metadata": {},
   "outputs": [],
   "source": []
  },
  {
   "cell_type": "markdown",
   "metadata": {},
   "source": [
    "2.2: Pay to MultiSig transaction (P2MS)\n"
   ]
  },
  {
   "cell_type": "code",
   "execution_count": null,
   "metadata": {},
   "outputs": [],
   "source": []
  },
  {
   "cell_type": "markdown",
   "metadata": {},
   "source": [
    "2.3: Custom Transaction (BitCoin Scripting)\n"
   ]
  },
  {
   "cell_type": "code",
   "execution_count": null,
   "metadata": {},
   "outputs": [],
   "source": []
  }
 ],
 "metadata": {
  "kernelspec": {
   "display_name": "Python 3",
   "language": "python",
   "name": "python3"
  },
  "language_info": {
   "codemirror_mode": {
    "name": "ipython",
    "version": 3
   },
   "file_extension": ".py",
   "mimetype": "text/x-python",
   "name": "python",
   "nbconvert_exporter": "python",
   "pygments_lexer": "ipython3",
   "version": "3.10.4"
  }
 },
 "nbformat": 4,
 "nbformat_minor": 2
}
